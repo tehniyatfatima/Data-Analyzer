{
 "cells": [
  {
   "cell_type": "markdown",
   "metadata": {},
   "source": [
    "*Student Data Analyzer With Python*"
   ]
  },
  {
   "cell_type": "code",
   "execution_count": 2,
   "metadata": {},
   "outputs": [],
   "source": [
    "## Import all modules \n",
    "import pandas as pd\n",
    "import numpy as np\n",
    "from matplotlib import pyplot as plt\n",
    "import seaborn as sns"
   ]
  },
  {
   "cell_type": "code",
   "execution_count": 3,
   "metadata": {},
   "outputs": [
    {
     "data": {
      "text/html": [
       "<div>\n",
       "<style scoped>\n",
       "    .dataframe tbody tr th:only-of-type {\n",
       "        vertical-align: middle;\n",
       "    }\n",
       "\n",
       "    .dataframe tbody tr th {\n",
       "        vertical-align: top;\n",
       "    }\n",
       "\n",
       "    .dataframe thead th {\n",
       "        text-align: right;\n",
       "    }\n",
       "</style>\n",
       "<table border=\"1\" class=\"dataframe\">\n",
       "  <thead>\n",
       "    <tr style=\"text-align: right;\">\n",
       "      <th></th>\n",
       "      <th>Have you completed any certification courses, or are you currently enrolled in any?</th>\n",
       "      <th>Gender</th>\n",
       "      <th>Department</th>\n",
       "      <th>Height(CM)</th>\n",
       "      <th>Weight(KG)</th>\n",
       "      <th>10th Mark</th>\n",
       "      <th>12th Mark</th>\n",
       "      <th>college mark</th>\n",
       "      <th>hobbies</th>\n",
       "      <th>daily_studing_time</th>\n",
       "      <th>prefer_to_study_in</th>\n",
       "      <th>salary expectation</th>\n",
       "      <th>Do you like your degree?</th>\n",
       "      <th>possibility of choosing  their career based on their degree :</th>\n",
       "      <th>social medai &amp; video games spending Time</th>\n",
       "      <th>Travelling_Time</th>\n",
       "      <th>Stress Level</th>\n",
       "      <th>Financial Status</th>\n",
       "      <th>Are you doing a part-time job right now?</th>\n",
       "    </tr>\n",
       "  </thead>\n",
       "  <tbody>\n",
       "    <tr>\n",
       "      <th>0</th>\n",
       "      <td>No</td>\n",
       "      <td>Male</td>\n",
       "      <td>BCA</td>\n",
       "      <td>100.0</td>\n",
       "      <td>58.0</td>\n",
       "      <td>79.0</td>\n",
       "      <td>65.0</td>\n",
       "      <td>80.0</td>\n",
       "      <td>Video Games</td>\n",
       "      <td>0 - 30 minute</td>\n",
       "      <td>Morning</td>\n",
       "      <td>40000</td>\n",
       "      <td>No</td>\n",
       "      <td>50%</td>\n",
       "      <td>1.30 - 2 hour</td>\n",
       "      <td>30 - 60 minutes</td>\n",
       "      <td>Bad</td>\n",
       "      <td>Bad</td>\n",
       "      <td>No</td>\n",
       "    </tr>\n",
       "    <tr>\n",
       "      <th>1</th>\n",
       "      <td>No</td>\n",
       "      <td>Female</td>\n",
       "      <td>BCA</td>\n",
       "      <td>90.0</td>\n",
       "      <td>40.0</td>\n",
       "      <td>70.0</td>\n",
       "      <td>80.0</td>\n",
       "      <td>70.0</td>\n",
       "      <td>Cinema</td>\n",
       "      <td>30 - 60 minute</td>\n",
       "      <td>Morning</td>\n",
       "      <td>15000</td>\n",
       "      <td>Yes</td>\n",
       "      <td>75%</td>\n",
       "      <td>1 - 1.30 hour</td>\n",
       "      <td>0 - 30 minutes</td>\n",
       "      <td>Bad</td>\n",
       "      <td>Bad</td>\n",
       "      <td>No</td>\n",
       "    </tr>\n",
       "    <tr>\n",
       "      <th>2</th>\n",
       "      <td>Yes</td>\n",
       "      <td>Male</td>\n",
       "      <td>BCA</td>\n",
       "      <td>159.0</td>\n",
       "      <td>78.0</td>\n",
       "      <td>69.5</td>\n",
       "      <td>61.0</td>\n",
       "      <td>55.0</td>\n",
       "      <td>Cinema</td>\n",
       "      <td>1 - 2 Hour</td>\n",
       "      <td>Anytime</td>\n",
       "      <td>13000</td>\n",
       "      <td>Yes</td>\n",
       "      <td>50%</td>\n",
       "      <td>More than 2 hour</td>\n",
       "      <td>30 - 60 minutes</td>\n",
       "      <td>Awful</td>\n",
       "      <td>Bad</td>\n",
       "      <td>No</td>\n",
       "    </tr>\n",
       "    <tr>\n",
       "      <th>3</th>\n",
       "      <td>Yes</td>\n",
       "      <td>Female</td>\n",
       "      <td>BCA</td>\n",
       "      <td>147.0</td>\n",
       "      <td>20.0</td>\n",
       "      <td>70.0</td>\n",
       "      <td>59.0</td>\n",
       "      <td>58.0</td>\n",
       "      <td>Reading books</td>\n",
       "      <td>1 - 2 Hour</td>\n",
       "      <td>Anytime</td>\n",
       "      <td>1500000</td>\n",
       "      <td>No</td>\n",
       "      <td>50%</td>\n",
       "      <td>1.30 - 2 hour</td>\n",
       "      <td>0 - 30 minutes</td>\n",
       "      <td>Bad</td>\n",
       "      <td>good</td>\n",
       "      <td>No</td>\n",
       "    </tr>\n",
       "    <tr>\n",
       "      <th>4</th>\n",
       "      <td>No</td>\n",
       "      <td>Male</td>\n",
       "      <td>BCA</td>\n",
       "      <td>170.0</td>\n",
       "      <td>54.0</td>\n",
       "      <td>40.0</td>\n",
       "      <td>65.0</td>\n",
       "      <td>30.0</td>\n",
       "      <td>Video Games</td>\n",
       "      <td>30 - 60 minute</td>\n",
       "      <td>Morning</td>\n",
       "      <td>50000</td>\n",
       "      <td>Yes</td>\n",
       "      <td>25%</td>\n",
       "      <td>1.30 - 2 hour</td>\n",
       "      <td>30 - 60 minutes</td>\n",
       "      <td>Good</td>\n",
       "      <td>good</td>\n",
       "      <td>No</td>\n",
       "    </tr>\n",
       "    <tr>\n",
       "      <th>...</th>\n",
       "      <td>...</td>\n",
       "      <td>...</td>\n",
       "      <td>...</td>\n",
       "      <td>...</td>\n",
       "      <td>...</td>\n",
       "      <td>...</td>\n",
       "      <td>...</td>\n",
       "      <td>...</td>\n",
       "      <td>...</td>\n",
       "      <td>...</td>\n",
       "      <td>...</td>\n",
       "      <td>...</td>\n",
       "      <td>...</td>\n",
       "      <td>...</td>\n",
       "      <td>...</td>\n",
       "      <td>...</td>\n",
       "      <td>...</td>\n",
       "      <td>...</td>\n",
       "      <td>...</td>\n",
       "    </tr>\n",
       "    <tr>\n",
       "      <th>230</th>\n",
       "      <td>Yes</td>\n",
       "      <td>Male</td>\n",
       "      <td>B.com ISM</td>\n",
       "      <td>170.0</td>\n",
       "      <td>76.0</td>\n",
       "      <td>72.0</td>\n",
       "      <td>67.0</td>\n",
       "      <td>65.0</td>\n",
       "      <td>Video Games</td>\n",
       "      <td>30 - 60 minute</td>\n",
       "      <td>Morning</td>\n",
       "      <td>7000</td>\n",
       "      <td>Yes</td>\n",
       "      <td>50%</td>\n",
       "      <td>More than 2 hour</td>\n",
       "      <td>30 - 60 minutes</td>\n",
       "      <td>Bad</td>\n",
       "      <td>Bad</td>\n",
       "      <td>No</td>\n",
       "    </tr>\n",
       "    <tr>\n",
       "      <th>231</th>\n",
       "      <td>Yes</td>\n",
       "      <td>Male</td>\n",
       "      <td>B.com ISM</td>\n",
       "      <td>172.0</td>\n",
       "      <td>52.0</td>\n",
       "      <td>72.0</td>\n",
       "      <td>70.0</td>\n",
       "      <td>76.0</td>\n",
       "      <td>Cinema</td>\n",
       "      <td>2 - 3 hour</td>\n",
       "      <td>Anytime</td>\n",
       "      <td>25000</td>\n",
       "      <td>Yes</td>\n",
       "      <td>75%</td>\n",
       "      <td>30 - 60 Minute</td>\n",
       "      <td>30 - 60 minutes</td>\n",
       "      <td>Good</td>\n",
       "      <td>good</td>\n",
       "      <td>No</td>\n",
       "    </tr>\n",
       "    <tr>\n",
       "      <th>232</th>\n",
       "      <td>Yes</td>\n",
       "      <td>Female</td>\n",
       "      <td>BCA</td>\n",
       "      <td>139.0</td>\n",
       "      <td>33.0</td>\n",
       "      <td>90.0</td>\n",
       "      <td>75.0</td>\n",
       "      <td>70.0</td>\n",
       "      <td>Cinema</td>\n",
       "      <td>30 - 60 minute</td>\n",
       "      <td>Night</td>\n",
       "      <td>20000</td>\n",
       "      <td>Yes</td>\n",
       "      <td>50%</td>\n",
       "      <td>30 - 60 Minute</td>\n",
       "      <td>2.30 - 3 hour</td>\n",
       "      <td>Bad</td>\n",
       "      <td>good</td>\n",
       "      <td>No</td>\n",
       "    </tr>\n",
       "    <tr>\n",
       "      <th>233</th>\n",
       "      <td>Yes</td>\n",
       "      <td>Female</td>\n",
       "      <td>Commerce</td>\n",
       "      <td>153.0</td>\n",
       "      <td>58.0</td>\n",
       "      <td>85.0</td>\n",
       "      <td>74.0</td>\n",
       "      <td>75.0</td>\n",
       "      <td>Cinema</td>\n",
       "      <td>0 - 30 minute</td>\n",
       "      <td>Anytime</td>\n",
       "      <td>20000</td>\n",
       "      <td>Yes</td>\n",
       "      <td>75%</td>\n",
       "      <td>More than 2 hour</td>\n",
       "      <td>2.30 - 3 hour</td>\n",
       "      <td>Awful</td>\n",
       "      <td>good</td>\n",
       "      <td>No</td>\n",
       "    </tr>\n",
       "    <tr>\n",
       "      <th>234</th>\n",
       "      <td>No</td>\n",
       "      <td>Female</td>\n",
       "      <td>B.com ISM</td>\n",
       "      <td>155.0</td>\n",
       "      <td>39.0</td>\n",
       "      <td>45.0</td>\n",
       "      <td>45.0</td>\n",
       "      <td>50.0</td>\n",
       "      <td>Sports</td>\n",
       "      <td>3 - 4 hour</td>\n",
       "      <td>Night</td>\n",
       "      <td>10</td>\n",
       "      <td>No</td>\n",
       "      <td>75%</td>\n",
       "      <td>30 - 60 Minute</td>\n",
       "      <td>2.30 - 3 hour</td>\n",
       "      <td>fabulous</td>\n",
       "      <td>good</td>\n",
       "      <td>No</td>\n",
       "    </tr>\n",
       "  </tbody>\n",
       "</table>\n",
       "<p>235 rows × 19 columns</p>\n",
       "</div>"
      ],
      "text/plain": [
       "    Have you completed any certification courses, or are you currently enrolled in any?  \\\n",
       "0                                                   No                                    \n",
       "1                                                   No                                    \n",
       "2                                                  Yes                                    \n",
       "3                                                  Yes                                    \n",
       "4                                                   No                                    \n",
       "..                                                 ...                                    \n",
       "230                                                Yes                                    \n",
       "231                                                Yes                                    \n",
       "232                                                Yes                                    \n",
       "233                                                Yes                                    \n",
       "234                                                 No                                    \n",
       "\n",
       "     Gender Department  Height(CM)  Weight(KG)  10th Mark  12th Mark  \\\n",
       "0      Male        BCA       100.0        58.0       79.0       65.0   \n",
       "1    Female        BCA        90.0        40.0       70.0       80.0   \n",
       "2      Male        BCA       159.0        78.0       69.5       61.0   \n",
       "3    Female        BCA       147.0        20.0       70.0       59.0   \n",
       "4      Male        BCA       170.0        54.0       40.0       65.0   \n",
       "..      ...        ...         ...         ...        ...        ...   \n",
       "230    Male  B.com ISM       170.0        76.0       72.0       67.0   \n",
       "231    Male  B.com ISM       172.0        52.0       72.0       70.0   \n",
       "232  Female        BCA       139.0        33.0       90.0       75.0   \n",
       "233  Female   Commerce       153.0        58.0       85.0       74.0   \n",
       "234  Female  B.com ISM       155.0        39.0       45.0       45.0   \n",
       "\n",
       "     college mark        hobbies daily_studing_time prefer_to_study_in  \\\n",
       "0            80.0    Video Games      0 - 30 minute            Morning   \n",
       "1            70.0         Cinema     30 - 60 minute            Morning   \n",
       "2            55.0         Cinema         1 - 2 Hour            Anytime   \n",
       "3            58.0  Reading books         1 - 2 Hour            Anytime   \n",
       "4            30.0    Video Games     30 - 60 minute            Morning   \n",
       "..            ...            ...                ...                ...   \n",
       "230          65.0    Video Games     30 - 60 minute            Morning   \n",
       "231          76.0         Cinema         2 - 3 hour            Anytime   \n",
       "232          70.0         Cinema     30 - 60 minute              Night   \n",
       "233          75.0         Cinema      0 - 30 minute            Anytime   \n",
       "234          50.0         Sports         3 - 4 hour              Night   \n",
       "\n",
       "     salary expectation Do you like your degree?  \\\n",
       "0                 40000                       No   \n",
       "1                 15000                      Yes   \n",
       "2                 13000                      Yes   \n",
       "3               1500000                       No   \n",
       "4                 50000                      Yes   \n",
       "..                  ...                      ...   \n",
       "230                7000                      Yes   \n",
       "231               25000                      Yes   \n",
       "232               20000                      Yes   \n",
       "233               20000                      Yes   \n",
       "234                  10                       No   \n",
       "\n",
       "    possibility of choosing  their career based on their degree :   \\\n",
       "0                                                  50%               \n",
       "1                                                  75%               \n",
       "2                                                  50%               \n",
       "3                                                  50%               \n",
       "4                                                  25%               \n",
       "..                                                 ...               \n",
       "230                                                50%               \n",
       "231                                                75%               \n",
       "232                                                50%               \n",
       "233                                                75%               \n",
       "234                                                75%               \n",
       "\n",
       "    social medai & video games spending Time Travelling_Time  Stress Level   \\\n",
       "0                              1.30 - 2 hour  30 - 60 minutes           Bad   \n",
       "1                              1 - 1.30 hour   0 - 30 minutes           Bad   \n",
       "2                           More than 2 hour  30 - 60 minutes         Awful   \n",
       "3                              1.30 - 2 hour   0 - 30 minutes           Bad   \n",
       "4                              1.30 - 2 hour  30 - 60 minutes          Good   \n",
       "..                                       ...              ...           ...   \n",
       "230                         More than 2 hour  30 - 60 minutes           Bad   \n",
       "231                           30 - 60 Minute  30 - 60 minutes          Good   \n",
       "232                           30 - 60 Minute    2.30 - 3 hour           Bad   \n",
       "233                         More than 2 hour    2.30 - 3 hour         Awful   \n",
       "234                           30 - 60 Minute    2.30 - 3 hour      fabulous   \n",
       "\n",
       "    Financial Status Are you doing a part-time job right now?  \n",
       "0                Bad                                       No  \n",
       "1                Bad                                       No  \n",
       "2                Bad                                       No  \n",
       "3               good                                       No  \n",
       "4               good                                       No  \n",
       "..               ...                                      ...  \n",
       "230              Bad                                       No  \n",
       "231             good                                       No  \n",
       "232             good                                       No  \n",
       "233             good                                       No  \n",
       "234             good                                       No  \n",
       "\n",
       "[235 rows x 19 columns]"
      ]
     },
     "execution_count": 3,
     "metadata": {},
     "output_type": "execute_result"
    }
   ],
   "source": [
    "data=pd.read_csv(\"Student_Behaviour.csv\")\n",
    "data"
   ]
  },
  {
   "cell_type": "code",
   "execution_count": 19,
   "metadata": {},
   "outputs": [
    {
     "data": {
      "text/html": [
       "<div>\n",
       "<style scoped>\n",
       "    .dataframe tbody tr th:only-of-type {\n",
       "        vertical-align: middle;\n",
       "    }\n",
       "\n",
       "    .dataframe tbody tr th {\n",
       "        vertical-align: top;\n",
       "    }\n",
       "\n",
       "    .dataframe thead th {\n",
       "        text-align: right;\n",
       "    }\n",
       "</style>\n",
       "<table border=\"1\" class=\"dataframe\">\n",
       "  <thead>\n",
       "    <tr style=\"text-align: right;\">\n",
       "      <th></th>\n",
       "      <th>Have you completed any certification courses, or are you currently enrolled in any?</th>\n",
       "      <th>Gender</th>\n",
       "      <th>Department</th>\n",
       "      <th>Height(CM)</th>\n",
       "      <th>Weight(KG)</th>\n",
       "      <th>10th Mark</th>\n",
       "      <th>12th Mark</th>\n",
       "      <th>college mark</th>\n",
       "      <th>hobbies</th>\n",
       "      <th>daily studing time</th>\n",
       "      <th>prefer to study in</th>\n",
       "      <th>salary expectation</th>\n",
       "      <th>Do you like your degree?</th>\n",
       "      <th>possibility of choosing  their career based on their degree :</th>\n",
       "      <th>social medai &amp; video games spending Time</th>\n",
       "      <th>Travelling Time</th>\n",
       "      <th>Stress Level</th>\n",
       "      <th>Financial Status</th>\n",
       "      <th>Are you doing a part-time job right now?</th>\n",
       "    </tr>\n",
       "  </thead>\n",
       "  <tbody>\n",
       "    <tr>\n",
       "      <th>0</th>\n",
       "      <td>No</td>\n",
       "      <td>Male</td>\n",
       "      <td>BCA</td>\n",
       "      <td>100.0</td>\n",
       "      <td>58.0</td>\n",
       "      <td>79.0</td>\n",
       "      <td>65.0</td>\n",
       "      <td>80.0</td>\n",
       "      <td>Video Games</td>\n",
       "      <td>0 - 30 minute</td>\n",
       "      <td>Morning</td>\n",
       "      <td>40000</td>\n",
       "      <td>No</td>\n",
       "      <td>50%</td>\n",
       "      <td>1.30 - 2 hour</td>\n",
       "      <td>30 - 60 minutes</td>\n",
       "      <td>Bad</td>\n",
       "      <td>Bad</td>\n",
       "      <td>No</td>\n",
       "    </tr>\n",
       "    <tr>\n",
       "      <th>1</th>\n",
       "      <td>No</td>\n",
       "      <td>Female</td>\n",
       "      <td>BCA</td>\n",
       "      <td>90.0</td>\n",
       "      <td>40.0</td>\n",
       "      <td>70.0</td>\n",
       "      <td>80.0</td>\n",
       "      <td>70.0</td>\n",
       "      <td>Cinema</td>\n",
       "      <td>30 - 60 minute</td>\n",
       "      <td>Morning</td>\n",
       "      <td>15000</td>\n",
       "      <td>Yes</td>\n",
       "      <td>75%</td>\n",
       "      <td>1 - 1.30 hour</td>\n",
       "      <td>0 - 30 minutes</td>\n",
       "      <td>Bad</td>\n",
       "      <td>Bad</td>\n",
       "      <td>No</td>\n",
       "    </tr>\n",
       "    <tr>\n",
       "      <th>2</th>\n",
       "      <td>Yes</td>\n",
       "      <td>Male</td>\n",
       "      <td>BCA</td>\n",
       "      <td>159.0</td>\n",
       "      <td>78.0</td>\n",
       "      <td>69.5</td>\n",
       "      <td>61.0</td>\n",
       "      <td>55.0</td>\n",
       "      <td>Cinema</td>\n",
       "      <td>1 - 2 Hour</td>\n",
       "      <td>Anytime</td>\n",
       "      <td>13000</td>\n",
       "      <td>Yes</td>\n",
       "      <td>50%</td>\n",
       "      <td>More than 2 hour</td>\n",
       "      <td>30 - 60 minutes</td>\n",
       "      <td>Awful</td>\n",
       "      <td>Bad</td>\n",
       "      <td>No</td>\n",
       "    </tr>\n",
       "    <tr>\n",
       "      <th>3</th>\n",
       "      <td>Yes</td>\n",
       "      <td>Female</td>\n",
       "      <td>BCA</td>\n",
       "      <td>147.0</td>\n",
       "      <td>20.0</td>\n",
       "      <td>70.0</td>\n",
       "      <td>59.0</td>\n",
       "      <td>58.0</td>\n",
       "      <td>Reading books</td>\n",
       "      <td>1 - 2 Hour</td>\n",
       "      <td>Anytime</td>\n",
       "      <td>1500000</td>\n",
       "      <td>No</td>\n",
       "      <td>50%</td>\n",
       "      <td>1.30 - 2 hour</td>\n",
       "      <td>0 - 30 minutes</td>\n",
       "      <td>Bad</td>\n",
       "      <td>good</td>\n",
       "      <td>No</td>\n",
       "    </tr>\n",
       "    <tr>\n",
       "      <th>4</th>\n",
       "      <td>No</td>\n",
       "      <td>Male</td>\n",
       "      <td>BCA</td>\n",
       "      <td>170.0</td>\n",
       "      <td>54.0</td>\n",
       "      <td>40.0</td>\n",
       "      <td>65.0</td>\n",
       "      <td>30.0</td>\n",
       "      <td>Video Games</td>\n",
       "      <td>30 - 60 minute</td>\n",
       "      <td>Morning</td>\n",
       "      <td>50000</td>\n",
       "      <td>Yes</td>\n",
       "      <td>25%</td>\n",
       "      <td>1.30 - 2 hour</td>\n",
       "      <td>30 - 60 minutes</td>\n",
       "      <td>Good</td>\n",
       "      <td>good</td>\n",
       "      <td>No</td>\n",
       "    </tr>\n",
       "  </tbody>\n",
       "</table>\n",
       "</div>"
      ],
      "text/plain": [
       "  Have you completed any certification courses, or are you currently enrolled in any?  \\\n",
       "0                                                 No                                    \n",
       "1                                                 No                                    \n",
       "2                                                Yes                                    \n",
       "3                                                Yes                                    \n",
       "4                                                 No                                    \n",
       "\n",
       "   Gender Department  Height(CM)  Weight(KG)  10th Mark  12th Mark  \\\n",
       "0    Male        BCA       100.0        58.0       79.0       65.0   \n",
       "1  Female        BCA        90.0        40.0       70.0       80.0   \n",
       "2    Male        BCA       159.0        78.0       69.5       61.0   \n",
       "3  Female        BCA       147.0        20.0       70.0       59.0   \n",
       "4    Male        BCA       170.0        54.0       40.0       65.0   \n",
       "\n",
       "   college mark        hobbies daily studing time prefer to study in  \\\n",
       "0          80.0    Video Games      0 - 30 minute            Morning   \n",
       "1          70.0         Cinema     30 - 60 minute            Morning   \n",
       "2          55.0         Cinema         1 - 2 Hour            Anytime   \n",
       "3          58.0  Reading books         1 - 2 Hour            Anytime   \n",
       "4          30.0    Video Games     30 - 60 minute            Morning   \n",
       "\n",
       "   salary expectation Do you like your degree?  \\\n",
       "0               40000                       No   \n",
       "1               15000                      Yes   \n",
       "2               13000                      Yes   \n",
       "3             1500000                       No   \n",
       "4               50000                      Yes   \n",
       "\n",
       "  possibility of choosing  their career based on their degree :   \\\n",
       "0                                                50%               \n",
       "1                                                75%               \n",
       "2                                                50%               \n",
       "3                                                50%               \n",
       "4                                                25%               \n",
       "\n",
       "  social medai & video games spending Time Travelling Time  Stress Level   \\\n",
       "0                            1.30 - 2 hour  30 - 60 minutes           Bad   \n",
       "1                            1 - 1.30 hour   0 - 30 minutes           Bad   \n",
       "2                         More than 2 hour  30 - 60 minutes         Awful   \n",
       "3                            1.30 - 2 hour   0 - 30 minutes           Bad   \n",
       "4                            1.30 - 2 hour  30 - 60 minutes          Good   \n",
       "\n",
       "  Financial Status Are you doing a part-time job right now?  \n",
       "0              Bad                                       No  \n",
       "1              Bad                                       No  \n",
       "2              Bad                                       No  \n",
       "3             good                                       No  \n",
       "4             good                                       No  "
      ]
     },
     "execution_count": 19,
     "metadata": {},
     "output_type": "execute_result"
    }
   ],
   "source": [
    "## display top 5 oberservations\n",
    "data.head()"
   ]
  },
  {
   "cell_type": "code",
   "execution_count": 68,
   "metadata": {},
   "outputs": [
    {
     "data": {
      "text/html": [
       "<div>\n",
       "<style scoped>\n",
       "    .dataframe tbody tr th:only-of-type {\n",
       "        vertical-align: middle;\n",
       "    }\n",
       "\n",
       "    .dataframe tbody tr th {\n",
       "        vertical-align: top;\n",
       "    }\n",
       "\n",
       "    .dataframe thead th {\n",
       "        text-align: right;\n",
       "    }\n",
       "</style>\n",
       "<table border=\"1\" class=\"dataframe\">\n",
       "  <thead>\n",
       "    <tr style=\"text-align: right;\">\n",
       "      <th></th>\n",
       "      <th>Have you completed any certification courses, or are you currently enrolled in any?</th>\n",
       "      <th>Gender</th>\n",
       "      <th>Department</th>\n",
       "      <th>Height(CM)</th>\n",
       "      <th>Weight(KG)</th>\n",
       "      <th>10th Mark</th>\n",
       "      <th>12th Mark</th>\n",
       "      <th>college mark</th>\n",
       "      <th>hobbies</th>\n",
       "      <th>daily studing time</th>\n",
       "      <th>prefer to study in</th>\n",
       "      <th>salary expectation</th>\n",
       "      <th>Do you like your degree?</th>\n",
       "      <th>possibility of choosing  their career based on their degree :</th>\n",
       "      <th>social medai &amp; video games spending Time</th>\n",
       "      <th>Travelling Time</th>\n",
       "      <th>Stress Level</th>\n",
       "      <th>Financial Status</th>\n",
       "      <th>Are you doing a part-time job right now?</th>\n",
       "    </tr>\n",
       "  </thead>\n",
       "  <tbody>\n",
       "    <tr>\n",
       "      <th>230</th>\n",
       "      <td>Yes</td>\n",
       "      <td>Male</td>\n",
       "      <td>B.com ISM</td>\n",
       "      <td>170.0</td>\n",
       "      <td>76.0</td>\n",
       "      <td>72.0</td>\n",
       "      <td>67.0</td>\n",
       "      <td>65.0</td>\n",
       "      <td>Video Games</td>\n",
       "      <td>30 - 60 minute</td>\n",
       "      <td>Morning</td>\n",
       "      <td>7000</td>\n",
       "      <td>Yes</td>\n",
       "      <td>50%</td>\n",
       "      <td>More than 2 hour</td>\n",
       "      <td>30 - 60 minutes</td>\n",
       "      <td>Bad</td>\n",
       "      <td>Bad</td>\n",
       "      <td>No</td>\n",
       "    </tr>\n",
       "    <tr>\n",
       "      <th>231</th>\n",
       "      <td>Yes</td>\n",
       "      <td>Male</td>\n",
       "      <td>B.com ISM</td>\n",
       "      <td>172.0</td>\n",
       "      <td>52.0</td>\n",
       "      <td>72.0</td>\n",
       "      <td>70.0</td>\n",
       "      <td>76.0</td>\n",
       "      <td>Cinema</td>\n",
       "      <td>2 - 3 hour</td>\n",
       "      <td>Anytime</td>\n",
       "      <td>25000</td>\n",
       "      <td>Yes</td>\n",
       "      <td>75%</td>\n",
       "      <td>30 - 60 Minute</td>\n",
       "      <td>30 - 60 minutes</td>\n",
       "      <td>Good</td>\n",
       "      <td>good</td>\n",
       "      <td>No</td>\n",
       "    </tr>\n",
       "    <tr>\n",
       "      <th>232</th>\n",
       "      <td>Yes</td>\n",
       "      <td>Female</td>\n",
       "      <td>BCA</td>\n",
       "      <td>139.0</td>\n",
       "      <td>33.0</td>\n",
       "      <td>90.0</td>\n",
       "      <td>75.0</td>\n",
       "      <td>70.0</td>\n",
       "      <td>Cinema</td>\n",
       "      <td>30 - 60 minute</td>\n",
       "      <td>Night</td>\n",
       "      <td>20000</td>\n",
       "      <td>Yes</td>\n",
       "      <td>50%</td>\n",
       "      <td>30 - 60 Minute</td>\n",
       "      <td>2.30 - 3 hour</td>\n",
       "      <td>Bad</td>\n",
       "      <td>good</td>\n",
       "      <td>No</td>\n",
       "    </tr>\n",
       "    <tr>\n",
       "      <th>233</th>\n",
       "      <td>Yes</td>\n",
       "      <td>Female</td>\n",
       "      <td>Commerce</td>\n",
       "      <td>153.0</td>\n",
       "      <td>58.0</td>\n",
       "      <td>85.0</td>\n",
       "      <td>74.0</td>\n",
       "      <td>75.0</td>\n",
       "      <td>Cinema</td>\n",
       "      <td>0 - 30 minute</td>\n",
       "      <td>Anytime</td>\n",
       "      <td>20000</td>\n",
       "      <td>Yes</td>\n",
       "      <td>75%</td>\n",
       "      <td>More than 2 hour</td>\n",
       "      <td>2.30 - 3 hour</td>\n",
       "      <td>Awful</td>\n",
       "      <td>good</td>\n",
       "      <td>No</td>\n",
       "    </tr>\n",
       "    <tr>\n",
       "      <th>234</th>\n",
       "      <td>No</td>\n",
       "      <td>Female</td>\n",
       "      <td>B.com ISM</td>\n",
       "      <td>155.0</td>\n",
       "      <td>39.0</td>\n",
       "      <td>45.0</td>\n",
       "      <td>45.0</td>\n",
       "      <td>50.0</td>\n",
       "      <td>Sports</td>\n",
       "      <td>3 - 4 hour</td>\n",
       "      <td>Night</td>\n",
       "      <td>10</td>\n",
       "      <td>No</td>\n",
       "      <td>75%</td>\n",
       "      <td>30 - 60 Minute</td>\n",
       "      <td>2.30 - 3 hour</td>\n",
       "      <td>fabulous</td>\n",
       "      <td>good</td>\n",
       "      <td>No</td>\n",
       "    </tr>\n",
       "  </tbody>\n",
       "</table>\n",
       "</div>"
      ],
      "text/plain": [
       "    Have you completed any certification courses, or are you currently enrolled in any?  \\\n",
       "230                                                Yes                                    \n",
       "231                                                Yes                                    \n",
       "232                                                Yes                                    \n",
       "233                                                Yes                                    \n",
       "234                                                 No                                    \n",
       "\n",
       "     Gender Department  Height(CM)  Weight(KG)  10th Mark  12th Mark  \\\n",
       "230    Male  B.com ISM       170.0        76.0       72.0       67.0   \n",
       "231    Male  B.com ISM       172.0        52.0       72.0       70.0   \n",
       "232  Female        BCA       139.0        33.0       90.0       75.0   \n",
       "233  Female   Commerce       153.0        58.0       85.0       74.0   \n",
       "234  Female  B.com ISM       155.0        39.0       45.0       45.0   \n",
       "\n",
       "     college mark      hobbies daily studing time prefer to study in  \\\n",
       "230          65.0  Video Games     30 - 60 minute            Morning   \n",
       "231          76.0       Cinema         2 - 3 hour            Anytime   \n",
       "232          70.0       Cinema     30 - 60 minute              Night   \n",
       "233          75.0       Cinema      0 - 30 minute            Anytime   \n",
       "234          50.0       Sports         3 - 4 hour              Night   \n",
       "\n",
       "     salary expectation Do you like your degree?  \\\n",
       "230                7000                      Yes   \n",
       "231               25000                      Yes   \n",
       "232               20000                      Yes   \n",
       "233               20000                      Yes   \n",
       "234                  10                       No   \n",
       "\n",
       "    possibility of choosing  their career based on their degree :   \\\n",
       "230                                                50%               \n",
       "231                                                75%               \n",
       "232                                                50%               \n",
       "233                                                75%               \n",
       "234                                                75%               \n",
       "\n",
       "    social medai & video games spending Time Travelling Time  Stress Level   \\\n",
       "230                         More than 2 hour  30 - 60 minutes           Bad   \n",
       "231                           30 - 60 Minute  30 - 60 minutes          Good   \n",
       "232                           30 - 60 Minute    2.30 - 3 hour           Bad   \n",
       "233                         More than 2 hour    2.30 - 3 hour         Awful   \n",
       "234                           30 - 60 Minute    2.30 - 3 hour      fabulous   \n",
       "\n",
       "    Financial Status Are you doing a part-time job right now?  \n",
       "230              Bad                                       No  \n",
       "231             good                                       No  \n",
       "232             good                                       No  \n",
       "233             good                                       No  \n",
       "234             good                                       No  "
      ]
     },
     "execution_count": 68,
     "metadata": {},
     "output_type": "execute_result"
    }
   ],
   "source": [
    "## displya last 5 observations\n",
    "data.tail()"
   ]
  },
  {
   "cell_type": "code",
   "execution_count": 21,
   "metadata": {},
   "outputs": [
    {
     "name": "stdout",
     "output_type": "stream",
     "text": [
      "there are 235 rows there are  19 columns\n"
     ]
    }
   ],
   "source": [
    "## display no of variable and observations\n",
    "x=data.shape\n",
    "print(\"there are\",x[0], \"rows\",\"there are \", x[1],\"columns\")\n"
   ]
  },
  {
   "cell_type": "code",
   "execution_count": 22,
   "metadata": {},
   "outputs": [
    {
     "data": {
      "text/plain": [
       "Have you completed any certification courses, or are you currently enrolled in any?     object\n",
       "Gender                                                                                  object\n",
       "Department                                                                              object\n",
       "Height(CM)                                                                             float64\n",
       "Weight(KG)                                                                             float64\n",
       "10th Mark                                                                              float64\n",
       "12th Mark                                                                              float64\n",
       "college mark                                                                           float64\n",
       "hobbies                                                                                 object\n",
       "daily studing time                                                                      object\n",
       "prefer to study in                                                                      object\n",
       "salary expectation                                                                       int64\n",
       "Do you like your degree?                                                                object\n",
       "possibility of choosing  their career based on their degree :                           object\n",
       "social medai & video games spending Time                                                object\n",
       "Travelling Time                                                                         object\n",
       "Stress Level                                                                            object\n",
       "Financial Status                                                                        object\n",
       "Are you doing a part-time job right now?                                                object\n",
       "dtype: object"
      ]
     },
     "execution_count": 22,
     "metadata": {},
     "output_type": "execute_result"
    }
   ],
   "source": [
    "## display variables type and their data types\n",
    "data.dtypes"
   ]
  },
  {
   "cell_type": "code",
   "execution_count": 23,
   "metadata": {},
   "outputs": [
    {
     "data": {
      "text/html": [
       "<div>\n",
       "<style scoped>\n",
       "    .dataframe tbody tr th:only-of-type {\n",
       "        vertical-align: middle;\n",
       "    }\n",
       "\n",
       "    .dataframe tbody tr th {\n",
       "        vertical-align: top;\n",
       "    }\n",
       "\n",
       "    .dataframe thead th {\n",
       "        text-align: right;\n",
       "    }\n",
       "</style>\n",
       "<table border=\"1\" class=\"dataframe\">\n",
       "  <thead>\n",
       "    <tr style=\"text-align: right;\">\n",
       "      <th></th>\n",
       "      <th>Height(CM)</th>\n",
       "      <th>Weight(KG)</th>\n",
       "      <th>10th Mark</th>\n",
       "      <th>12th Mark</th>\n",
       "      <th>college mark</th>\n",
       "      <th>salary expectation</th>\n",
       "    </tr>\n",
       "  </thead>\n",
       "  <tbody>\n",
       "    <tr>\n",
       "      <th>count</th>\n",
       "      <td>235.000000</td>\n",
       "      <td>235.000000</td>\n",
       "      <td>235.000000</td>\n",
       "      <td>235.000000</td>\n",
       "      <td>235.000000</td>\n",
       "      <td>2.350000e+02</td>\n",
       "    </tr>\n",
       "    <tr>\n",
       "      <th>mean</th>\n",
       "      <td>157.402128</td>\n",
       "      <td>60.803830</td>\n",
       "      <td>76.842128</td>\n",
       "      <td>68.780128</td>\n",
       "      <td>70.660553</td>\n",
       "      <td>3.248168e+04</td>\n",
       "    </tr>\n",
       "    <tr>\n",
       "      <th>std</th>\n",
       "      <td>21.510805</td>\n",
       "      <td>14.895844</td>\n",
       "      <td>13.050800</td>\n",
       "      <td>11.016533</td>\n",
       "      <td>15.727446</td>\n",
       "      <td>1.113146e+05</td>\n",
       "    </tr>\n",
       "    <tr>\n",
       "      <th>min</th>\n",
       "      <td>4.500000</td>\n",
       "      <td>20.000000</td>\n",
       "      <td>7.400000</td>\n",
       "      <td>45.000000</td>\n",
       "      <td>1.000000</td>\n",
       "      <td>0.000000e+00</td>\n",
       "    </tr>\n",
       "    <tr>\n",
       "      <th>25%</th>\n",
       "      <td>152.000000</td>\n",
       "      <td>50.000000</td>\n",
       "      <td>70.000000</td>\n",
       "      <td>60.000000</td>\n",
       "      <td>60.000000</td>\n",
       "      <td>1.500000e+04</td>\n",
       "    </tr>\n",
       "    <tr>\n",
       "      <th>50%</th>\n",
       "      <td>160.000000</td>\n",
       "      <td>60.000000</td>\n",
       "      <td>80.000000</td>\n",
       "      <td>69.000000</td>\n",
       "      <td>70.000000</td>\n",
       "      <td>2.000000e+04</td>\n",
       "    </tr>\n",
       "    <tr>\n",
       "      <th>75%</th>\n",
       "      <td>170.000000</td>\n",
       "      <td>70.000000</td>\n",
       "      <td>86.250000</td>\n",
       "      <td>76.000000</td>\n",
       "      <td>80.000000</td>\n",
       "      <td>2.500000e+04</td>\n",
       "    </tr>\n",
       "    <tr>\n",
       "      <th>max</th>\n",
       "      <td>192.000000</td>\n",
       "      <td>106.000000</td>\n",
       "      <td>98.000000</td>\n",
       "      <td>94.000000</td>\n",
       "      <td>100.000000</td>\n",
       "      <td>1.500000e+06</td>\n",
       "    </tr>\n",
       "  </tbody>\n",
       "</table>\n",
       "</div>"
      ],
      "text/plain": [
       "       Height(CM)  Weight(KG)   10th Mark   12th Mark  college mark  \\\n",
       "count  235.000000  235.000000  235.000000  235.000000    235.000000   \n",
       "mean   157.402128   60.803830   76.842128   68.780128     70.660553   \n",
       "std     21.510805   14.895844   13.050800   11.016533     15.727446   \n",
       "min      4.500000   20.000000    7.400000   45.000000      1.000000   \n",
       "25%    152.000000   50.000000   70.000000   60.000000     60.000000   \n",
       "50%    160.000000   60.000000   80.000000   69.000000     70.000000   \n",
       "75%    170.000000   70.000000   86.250000   76.000000     80.000000   \n",
       "max    192.000000  106.000000   98.000000   94.000000    100.000000   \n",
       "\n",
       "       salary expectation  \n",
       "count        2.350000e+02  \n",
       "mean         3.248168e+04  \n",
       "std          1.113146e+05  \n",
       "min          0.000000e+00  \n",
       "25%          1.500000e+04  \n",
       "50%          2.000000e+04  \n",
       "75%          2.500000e+04  \n",
       "max          1.500000e+06  "
      ]
     },
     "execution_count": 23,
     "metadata": {},
     "output_type": "execute_result"
    }
   ],
   "source": [
    "## display descriptive statictics\n",
    "data.describe()"
   ]
  },
  {
   "cell_type": "code",
   "execution_count": 24,
   "metadata": {},
   "outputs": [
    {
     "data": {
      "text/plain": [
       "Have you completed any certification courses, or are you currently enrolled in any?    235\n",
       "Gender                                                                                 235\n",
       "Department                                                                             235\n",
       "Height(CM)                                                                             235\n",
       "Weight(KG)                                                                             235\n",
       "10th Mark                                                                              235\n",
       "12th Mark                                                                              235\n",
       "college mark                                                                           235\n",
       "hobbies                                                                                235\n",
       "daily studing time                                                                     235\n",
       "prefer to study in                                                                     235\n",
       "salary expectation                                                                     235\n",
       "Do you like your degree?                                                               235\n",
       "possibility of choosing  their career based on their degree :                          235\n",
       "social medai & video games spending Time                                               235\n",
       "Travelling Time                                                                        235\n",
       "Stress Level                                                                           235\n",
       "Financial Status                                                                       235\n",
       "Are you doing a part-time job right now?                                               235\n",
       "dtype: int64"
      ]
     },
     "execution_count": 24,
     "metadata": {},
     "output_type": "execute_result"
    }
   ],
   "source": [
    "## Count the number of Non-Missing Values for each variable\n",
    "data.count()"
   ]
  },
  {
   "cell_type": "code",
   "execution_count": 25,
   "metadata": {},
   "outputs": [
    {
     "data": {
      "text/plain": [
       "<bound method DataFrame.info of     Have you completed any certification courses, or are you currently enrolled in any?  \\\n",
       "0                                                   No                                    \n",
       "1                                                   No                                    \n",
       "2                                                  Yes                                    \n",
       "3                                                  Yes                                    \n",
       "4                                                   No                                    \n",
       "..                                                 ...                                    \n",
       "230                                                Yes                                    \n",
       "231                                                Yes                                    \n",
       "232                                                Yes                                    \n",
       "233                                                Yes                                    \n",
       "234                                                 No                                    \n",
       "\n",
       "     Gender Department  Height(CM)  Weight(KG)  10th Mark  12th Mark  \\\n",
       "0      Male        BCA       100.0        58.0       79.0       65.0   \n",
       "1    Female        BCA        90.0        40.0       70.0       80.0   \n",
       "2      Male        BCA       159.0        78.0       69.5       61.0   \n",
       "3    Female        BCA       147.0        20.0       70.0       59.0   \n",
       "4      Male        BCA       170.0        54.0       40.0       65.0   \n",
       "..      ...        ...         ...         ...        ...        ...   \n",
       "230    Male  B.com ISM       170.0        76.0       72.0       67.0   \n",
       "231    Male  B.com ISM       172.0        52.0       72.0       70.0   \n",
       "232  Female        BCA       139.0        33.0       90.0       75.0   \n",
       "233  Female   Commerce       153.0        58.0       85.0       74.0   \n",
       "234  Female  B.com ISM       155.0        39.0       45.0       45.0   \n",
       "\n",
       "     college mark        hobbies daily studing time prefer to study in  \\\n",
       "0            80.0    Video Games      0 - 30 minute            Morning   \n",
       "1            70.0         Cinema     30 - 60 minute            Morning   \n",
       "2            55.0         Cinema         1 - 2 Hour            Anytime   \n",
       "3            58.0  Reading books         1 - 2 Hour            Anytime   \n",
       "4            30.0    Video Games     30 - 60 minute            Morning   \n",
       "..            ...            ...                ...                ...   \n",
       "230          65.0    Video Games     30 - 60 minute            Morning   \n",
       "231          76.0         Cinema         2 - 3 hour            Anytime   \n",
       "232          70.0         Cinema     30 - 60 minute              Night   \n",
       "233          75.0         Cinema      0 - 30 minute            Anytime   \n",
       "234          50.0         Sports         3 - 4 hour              Night   \n",
       "\n",
       "     salary expectation Do you like your degree?  \\\n",
       "0                 40000                       No   \n",
       "1                 15000                      Yes   \n",
       "2                 13000                      Yes   \n",
       "3               1500000                       No   \n",
       "4                 50000                      Yes   \n",
       "..                  ...                      ...   \n",
       "230                7000                      Yes   \n",
       "231               25000                      Yes   \n",
       "232               20000                      Yes   \n",
       "233               20000                      Yes   \n",
       "234                  10                       No   \n",
       "\n",
       "    possibility of choosing  their career based on their degree :   \\\n",
       "0                                                  50%               \n",
       "1                                                  75%               \n",
       "2                                                  50%               \n",
       "3                                                  50%               \n",
       "4                                                  25%               \n",
       "..                                                 ...               \n",
       "230                                                50%               \n",
       "231                                                75%               \n",
       "232                                                50%               \n",
       "233                                                75%               \n",
       "234                                                75%               \n",
       "\n",
       "    social medai & video games spending Time Travelling Time  Stress Level   \\\n",
       "0                              1.30 - 2 hour  30 - 60 minutes           Bad   \n",
       "1                              1 - 1.30 hour   0 - 30 minutes           Bad   \n",
       "2                           More than 2 hour  30 - 60 minutes         Awful   \n",
       "3                              1.30 - 2 hour   0 - 30 minutes           Bad   \n",
       "4                              1.30 - 2 hour  30 - 60 minutes          Good   \n",
       "..                                       ...              ...           ...   \n",
       "230                         More than 2 hour  30 - 60 minutes           Bad   \n",
       "231                           30 - 60 Minute  30 - 60 minutes          Good   \n",
       "232                           30 - 60 Minute    2.30 - 3 hour           Bad   \n",
       "233                         More than 2 hour    2.30 - 3 hour         Awful   \n",
       "234                           30 - 60 Minute    2.30 - 3 hour      fabulous   \n",
       "\n",
       "    Financial Status Are you doing a part-time job right now?  \n",
       "0                Bad                                       No  \n",
       "1                Bad                                       No  \n",
       "2                Bad                                       No  \n",
       "3               good                                       No  \n",
       "4               good                                       No  \n",
       "..               ...                                      ...  \n",
       "230              Bad                                       No  \n",
       "231             good                                       No  \n",
       "232             good                                       No  \n",
       "233             good                                       No  \n",
       "234             good                                       No  \n",
       "\n",
       "[235 rows x 19 columns]>"
      ]
     },
     "execution_count": 25,
     "metadata": {},
     "output_type": "execute_result"
    }
   ],
   "source": [
    "## Display data summary\n",
    "data.info"
   ]
  },
  {
   "cell_type": "code",
   "execution_count": 26,
   "metadata": {},
   "outputs": [
    {
     "data": {
      "text/plain": [
       "Have you completed any certification courses, or are you currently enrolled in any?    0\n",
       "Gender                                                                                 0\n",
       "Department                                                                             0\n",
       "Height(CM)                                                                             0\n",
       "Weight(KG)                                                                             0\n",
       "10th Mark                                                                              0\n",
       "12th Mark                                                                              0\n",
       "college mark                                                                           0\n",
       "hobbies                                                                                0\n",
       "daily studing time                                                                     0\n",
       "prefer to study in                                                                     0\n",
       "salary expectation                                                                     0\n",
       "Do you like your degree?                                                               0\n",
       "possibility of choosing  their career based on their degree :                          0\n",
       "social medai & video games spending Time                                               0\n",
       "Travelling Time                                                                        0\n",
       "Stress Level                                                                           0\n",
       "Financial Status                                                                       0\n",
       "Are you doing a part-time job right now?                                               0\n",
       "dtype: int64"
      ]
     },
     "execution_count": 26,
     "metadata": {},
     "output_type": "execute_result"
    }
   ],
   "source": [
    "## Handling Missing values \n",
    "\n",
    "data.isnull().sum()"
   ]
  },
  {
   "cell_type": "code",
   "execution_count": 27,
   "metadata": {},
   "outputs": [
    {
     "data": {
      "text/plain": [
       "Have you completed any certification courses, or are you currently enrolled in any?    235\n",
       "Gender                                                                                 235\n",
       "Department                                                                             235\n",
       "Height(CM)                                                                             235\n",
       "Weight(KG)                                                                             235\n",
       "10th Mark                                                                              235\n",
       "12th Mark                                                                              235\n",
       "college mark                                                                           235\n",
       "hobbies                                                                                235\n",
       "daily studing time                                                                     235\n",
       "prefer to study in                                                                     235\n",
       "salary expectation                                                                     235\n",
       "Do you like your degree?                                                               235\n",
       "possibility of choosing  their career based on their degree :                          235\n",
       "social medai & video games spending Time                                               235\n",
       "Travelling Time                                                                        235\n",
       "Stress Level                                                                           235\n",
       "Financial Status                                                                       235\n",
       "Are you doing a part-time job right now?                                               235\n",
       "dtype: int64"
      ]
     },
     "execution_count": 27,
     "metadata": {},
     "output_type": "execute_result"
    }
   ],
   "source": [
    "data.notnull().sum()"
   ]
  },
  {
   "cell_type": "code",
   "execution_count": 28,
   "metadata": {},
   "outputs": [
    {
     "data": {
      "text/plain": [
       "Index(['Have you completed any certification courses, or are you currently enrolled in any?',\n",
       "       'Gender', 'Department', 'Height(CM)', 'Weight(KG)', '10th Mark',\n",
       "       '12th Mark', 'college mark', 'hobbies', 'daily studing time',\n",
       "       'prefer to study in', 'salary expectation', 'Do you like your degree?',\n",
       "       'possibility of choosing  their career based on their degree : ',\n",
       "       'social medai & video games spending Time', 'Travelling Time ',\n",
       "       'Stress Level ', 'Financial Status',\n",
       "       'Are you doing a part-time job right now?'],\n",
       "      dtype='object')"
      ]
     },
     "execution_count": 28,
     "metadata": {},
     "output_type": "execute_result"
    }
   ],
   "source": [
    "data.columns"
   ]
  },
  {
   "cell_type": "markdown",
   "metadata": {},
   "source": [
    "*Analyze data with visulizatio*"
   ]
  },
  {
   "cell_type": "code",
   "execution_count": 29,
   "metadata": {},
   "outputs": [
    {
     "name": "stdout",
     "output_type": "stream",
     "text": [
      "Visulze Male and femal Percentage in Dataset\n"
     ]
    },
    {
     "data": {
      "image/png": "[encoded data removed]",
      "text/plain": [
       "<Figure size 432x288 with 1 Axes>"
      ]
     },
     "metadata": {},
     "output_type": "display_data"
    },
    {
     "name": "stdout",
     "output_type": "stream",
     "text": [
      "Visulze Department Percentage in Dataset\n"
     ]
    },
    {
     "data": {
      "image/png": "[encoded data removed]",
      "text/plain": [
       "<Figure size 432x288 with 1 Axes>"
      ]
     },
     "metadata": {},
     "output_type": "display_data"
    }
   ],
   "source": [
    "## Visulze Male and femal Percentage in Dataset\n",
    "print(\"Visulze Male and femal Percentage in Dataset\")\n",
    "plt.pie(data[\"Gender\"].value_counts(),labels=data[\"Gender\"].unique(),autopct='%1.2f%%')\n",
    "plt.show()\n",
    "\n",
    "print(\"Visulze Department Percentage in Dataset\")\n",
    "plt.pie(data[\"Department\"].value_counts(),labels=data[\"Department\"].unique(),autopct='%1.2f%%')\n",
    "plt.show()"
   ]
  },
  {
   "cell_type": "code",
   "execution_count": 30,
   "metadata": {},
   "outputs": [
    {
     "name": "stdout",
     "output_type": "stream",
     "text": [
      "Visulyze data between Gender and marks in 10th\n"
     ]
    },
    {
     "data": {
      "image/png": "[encoded data removed]",
      "text/plain": [
       "<Figure size 432x288 with 1 Axes>"
      ]
     },
     "metadata": {
      "needs_background": "light"
     },
     "output_type": "display_data"
    },
    {
     "name": "stdout",
     "output_type": "stream",
     "text": [
      "Visulyze data between Gender and marks in 12th\n"
     ]
    },
    {
     "data": {
      "image/png": "[encoded data removed]",
      "text/plain": [
       "<Figure size 432x288 with 1 Axes>"
      ]
     },
     "metadata": {
      "needs_background": "light"
     },
     "output_type": "display_data"
    },
    {
     "name": "stdout",
     "output_type": "stream",
     "text": [
      "Visulyze data between Gender and marks in college mark\n"
     ]
    },
    {
     "data": {
      "image/png": "[encoded data removed]",
      "text/plain": [
       "<Figure size 432x288 with 1 Axes>"
      ]
     },
     "metadata": {
      "needs_background": "light"
     },
     "output_type": "display_data"
    }
   ],
   "source": [
    "##  Visulyze data between Gender and marks in 10th\n",
    "print(\"Visulyze data between Gender and marks in 10th\")\n",
    "sns.histplot(data=data,y=data[\"Gender\"] , x=data[\"10th Mark\"],binwidth=5)\n",
    "plt.show()\n",
    "\n",
    "##  Visulyze data between Gender and marks in 12th\n",
    "print(\"Visulyze data between Gender and marks in 12th\")\n",
    "sns.histplot(data=data,y=data[\"Gender\"] , x=data[\"12th Mark\"],binwidth=5)\n",
    "plt.show()\n",
    "\n",
    "##  Visulyze data between Gender and marks in \n",
    "print(\"Visulyze data between Gender and marks in college mark\")\n",
    "sns.histplot(data=data,y=data[\"Gender\"] , x=data[\"college mark\"],binwidth=5)\n",
    "plt.show()"
   ]
  },
  {
   "cell_type": "code",
   "execution_count": 31,
   "metadata": {},
   "outputs": [
    {
     "data": {
      "text/plain": [
       "array(['Video Games', 'Cinema', 'Reading books', 'Sports'], dtype=object)"
      ]
     },
     "execution_count": 31,
     "metadata": {},
     "output_type": "execute_result"
    }
   ],
   "source": [
    "# unique values in hobbies.\n",
    "data['hobbies'].unique()"
   ]
  },
  {
   "cell_type": "code",
   "execution_count": 25,
   "metadata": {},
   "outputs": [
    {
     "data": {
      "text/html": [
       "<div>\n",
       "<style scoped>\n",
       "    .dataframe tbody tr th:only-of-type {\n",
       "        vertical-align: middle;\n",
       "    }\n",
       "\n",
       "    .dataframe tbody tr th {\n",
       "        vertical-align: top;\n",
       "    }\n",
       "\n",
       "    .dataframe thead th {\n",
       "        text-align: right;\n",
       "    }\n",
       "</style>\n",
       "<table border=\"1\" class=\"dataframe\">\n",
       "  <thead>\n",
       "    <tr style=\"text-align: right;\">\n",
       "      <th></th>\n",
       "      <th>hobbies</th>\n",
       "      <th>Counts</th>\n",
       "    </tr>\n",
       "  </thead>\n",
       "  <tbody>\n",
       "    <tr>\n",
       "      <th>0</th>\n",
       "      <td>Cinema</td>\n",
       "      <td>78</td>\n",
       "    </tr>\n",
       "    <tr>\n",
       "      <th>1</th>\n",
       "      <td>Reading books</td>\n",
       "      <td>36</td>\n",
       "    </tr>\n",
       "    <tr>\n",
       "      <th>2</th>\n",
       "      <td>Sports</td>\n",
       "      <td>85</td>\n",
       "    </tr>\n",
       "    <tr>\n",
       "      <th>3</th>\n",
       "      <td>Video Games</td>\n",
       "      <td>36</td>\n",
       "    </tr>\n",
       "  </tbody>\n",
       "</table>\n",
       "</div>"
      ],
      "text/plain": [
       "         hobbies  Counts\n",
       "0         Cinema      78\n",
       "1  Reading books      36\n",
       "2         Sports      85\n",
       "3    Video Games      36"
      ]
     },
     "execution_count": 25,
     "metadata": {},
     "output_type": "execute_result"
    }
   ],
   "source": [
    "hobbies=data.groupby('hobbies').size().reset_index().rename(columns = {0:\"Counts\"})\n",
    "hobbies"
   ]
  },
  {
   "cell_type": "code",
   "execution_count": 33,
   "metadata": {},
   "outputs": [
    {
     "data": {
      "text/html": [
       "<div>\n",
       "<style scoped>\n",
       "    .dataframe tbody tr th:only-of-type {\n",
       "        vertical-align: middle;\n",
       "    }\n",
       "\n",
       "    .dataframe tbody tr th {\n",
       "        vertical-align: top;\n",
       "    }\n",
       "\n",
       "    .dataframe thead th {\n",
       "        text-align: right;\n",
       "    }\n",
       "</style>\n",
       "<table border=\"1\" class=\"dataframe\">\n",
       "  <thead>\n",
       "    <tr style=\"text-align: right;\">\n",
       "      <th></th>\n",
       "      <th>Gender</th>\n",
       "      <th>hobbies</th>\n",
       "      <th>Counts</th>\n",
       "    </tr>\n",
       "  </thead>\n",
       "  <tbody>\n",
       "    <tr>\n",
       "      <th>0</th>\n",
       "      <td>Male</td>\n",
       "      <td>Cinema</td>\n",
       "      <td>43</td>\n",
       "    </tr>\n",
       "    <tr>\n",
       "      <th>1</th>\n",
       "      <td>Male</td>\n",
       "      <td>Reading books</td>\n",
       "      <td>18</td>\n",
       "    </tr>\n",
       "    <tr>\n",
       "      <th>2</th>\n",
       "      <td>Male</td>\n",
       "      <td>Sports</td>\n",
       "      <td>62</td>\n",
       "    </tr>\n",
       "    <tr>\n",
       "      <th>3</th>\n",
       "      <td>Male</td>\n",
       "      <td>Video Games</td>\n",
       "      <td>33</td>\n",
       "    </tr>\n",
       "  </tbody>\n",
       "</table>\n",
       "</div>"
      ],
      "text/plain": [
       "  Gender        hobbies  Counts\n",
       "0   Male         Cinema      43\n",
       "1   Male  Reading books      18\n",
       "2   Male         Sports      62\n",
       "3   Male    Video Games      33"
      ]
     },
     "execution_count": 33,
     "metadata": {},
     "output_type": "execute_result"
    }
   ],
   "source": [
    "male_hobbies = data[data['Gender'] == 'Male'].groupby(['Gender','hobbies']).size().reset_index().rename(columns = {0:\"Counts\"})\n",
    "male_hobbies"
   ]
  },
  {
   "cell_type": "code",
   "execution_count": 34,
   "metadata": {},
   "outputs": [
    {
     "data": {
      "image/png": "[encoded data removed]",
      "text/plain": [
       "<Figure size 432x288 with 1 Axes>"
      ]
     },
     "metadata": {},
     "output_type": "display_data"
    }
   ],
   "source": [
    "#Ratio Male hobbies.\n",
    "plt.pie(x = male_hobbies.Counts,labels = male_hobbies.hobbies,autopct = '%1.2f%%')\n",
    "plt.show()"
   ]
  },
  {
   "cell_type": "markdown",
   "metadata": {},
   "source": [
    " *Observations* \n",
    "1. From the observation it looks like Sports is famous hobbies among males.\n"
   ]
  },
  {
   "cell_type": "code",
   "execution_count": 35,
   "metadata": {},
   "outputs": [
    {
     "data": {
      "image/png": "[encoded data removed]",
      "text/plain": [
       "<Figure size 432x288 with 1 Axes>"
      ]
     },
     "metadata": {
      "needs_background": "light"
     },
     "output_type": "display_data"
    }
   ],
   "source": [
    "plt.bar(male_hobbies.hobbies,male_hobbies.Counts,color = 'blue')\n",
    "plt.title(\"Males Hobbies\")\n",
    "plt.show()"
   ]
  },
  {
   "cell_type": "code",
   "execution_count": 36,
   "metadata": {},
   "outputs": [
    {
     "data": {
      "text/html": [
       "<div>\n",
       "<style scoped>\n",
       "    .dataframe tbody tr th:only-of-type {\n",
       "        vertical-align: middle;\n",
       "    }\n",
       "\n",
       "    .dataframe tbody tr th {\n",
       "        vertical-align: top;\n",
       "    }\n",
       "\n",
       "    .dataframe thead th {\n",
       "        text-align: right;\n",
       "    }\n",
       "</style>\n",
       "<table border=\"1\" class=\"dataframe\">\n",
       "  <thead>\n",
       "    <tr style=\"text-align: right;\">\n",
       "      <th></th>\n",
       "      <th>Gender</th>\n",
       "      <th>hobbies</th>\n",
       "      <th>Counts</th>\n",
       "    </tr>\n",
       "  </thead>\n",
       "  <tbody>\n",
       "    <tr>\n",
       "      <th>0</th>\n",
       "      <td>Female</td>\n",
       "      <td>Cinema</td>\n",
       "      <td>35</td>\n",
       "    </tr>\n",
       "    <tr>\n",
       "      <th>1</th>\n",
       "      <td>Female</td>\n",
       "      <td>Reading books</td>\n",
       "      <td>18</td>\n",
       "    </tr>\n",
       "    <tr>\n",
       "      <th>2</th>\n",
       "      <td>Female</td>\n",
       "      <td>Sports</td>\n",
       "      <td>23</td>\n",
       "    </tr>\n",
       "    <tr>\n",
       "      <th>3</th>\n",
       "      <td>Female</td>\n",
       "      <td>Video Games</td>\n",
       "      <td>3</td>\n",
       "    </tr>\n",
       "  </tbody>\n",
       "</table>\n",
       "</div>"
      ],
      "text/plain": [
       "   Gender        hobbies  Counts\n",
       "0  Female         Cinema      35\n",
       "1  Female  Reading books      18\n",
       "2  Female         Sports      23\n",
       "3  Female    Video Games       3"
      ]
     },
     "execution_count": 36,
     "metadata": {},
     "output_type": "execute_result"
    }
   ],
   "source": [
    "female_hobbies = data[data['Gender'] == 'Female'].groupby(['Gender','hobbies']).size().reset_index().rename(columns = {0:\"Counts\"})\n",
    "female_hobbies"
   ]
  },
  {
   "cell_type": "code",
   "execution_count": 37,
   "metadata": {},
   "outputs": [
    {
     "data": {
      "image/png": "[encoded data removed]",
      "text/plain": [
       "<Figure size 432x288 with 1 Axes>"
      ]
     },
     "metadata": {},
     "output_type": "display_data"
    }
   ],
   "source": [
    "plt.pie(x = female_hobbies.Counts,labels = female_hobbies.hobbies,autopct = '%1.2f%%')\n",
    "plt.show()"
   ]
  },
  {
   "cell_type": "markdown",
   "metadata": {},
   "source": [
    "*Observation* \n",
    "1. It is observed that Cinema is far most famous Hobbies for Females."
   ]
  },
  {
   "cell_type": "code",
   "execution_count": 38,
   "metadata": {
    "scrolled": true
   },
   "outputs": [
    {
     "data": {
      "image/png": "[encoded data removed]",
      "text/plain": [
       "<Figure size 432x288 with 1 Axes>"
      ]
     },
     "metadata": {
      "needs_background": "light"
     },
     "output_type": "display_data"
    }
   ],
   "source": [
    "plt.bar(female_hobbies.hobbies,female_hobbies.Counts,color = 'red')\n",
    "plt.title(\"Females Hobbies\")\n",
    "plt.show()"
   ]
  },
  {
   "cell_type": "code",
   "execution_count": 5,
   "metadata": {},
   "outputs": [
    {
     "data": {
      "text/html": [
       "<div>\n",
       "<style scoped>\n",
       "    .dataframe tbody tr th:only-of-type {\n",
       "        vertical-align: middle;\n",
       "    }\n",
       "\n",
       "    .dataframe tbody tr th {\n",
       "        vertical-align: top;\n",
       "    }\n",
       "\n",
       "    .dataframe thead th {\n",
       "        text-align: right;\n",
       "    }\n",
       "</style>\n",
       "<table border=\"1\" class=\"dataframe\">\n",
       "  <thead>\n",
       "    <tr style=\"text-align: right;\">\n",
       "      <th></th>\n",
       "      <th>hobbies</th>\n",
       "      <th>Gender</th>\n",
       "      <th>Counts</th>\n",
       "    </tr>\n",
       "  </thead>\n",
       "  <tbody>\n",
       "    <tr>\n",
       "      <th>0</th>\n",
       "      <td>Cinema</td>\n",
       "      <td>Female</td>\n",
       "      <td>35</td>\n",
       "    </tr>\n",
       "    <tr>\n",
       "      <th>1</th>\n",
       "      <td>Cinema</td>\n",
       "      <td>Male</td>\n",
       "      <td>43</td>\n",
       "    </tr>\n",
       "    <tr>\n",
       "      <th>2</th>\n",
       "      <td>Reading books</td>\n",
       "      <td>Female</td>\n",
       "      <td>18</td>\n",
       "    </tr>\n",
       "    <tr>\n",
       "      <th>3</th>\n",
       "      <td>Reading books</td>\n",
       "      <td>Male</td>\n",
       "      <td>18</td>\n",
       "    </tr>\n",
       "    <tr>\n",
       "      <th>4</th>\n",
       "      <td>Sports</td>\n",
       "      <td>Female</td>\n",
       "      <td>23</td>\n",
       "    </tr>\n",
       "    <tr>\n",
       "      <th>5</th>\n",
       "      <td>Sports</td>\n",
       "      <td>Male</td>\n",
       "      <td>62</td>\n",
       "    </tr>\n",
       "    <tr>\n",
       "      <th>6</th>\n",
       "      <td>Video Games</td>\n",
       "      <td>Female</td>\n",
       "      <td>3</td>\n",
       "    </tr>\n",
       "    <tr>\n",
       "      <th>7</th>\n",
       "      <td>Video Games</td>\n",
       "      <td>Male</td>\n",
       "      <td>33</td>\n",
       "    </tr>\n",
       "  </tbody>\n",
       "</table>\n",
       "</div>"
      ],
      "text/plain": [
       "         hobbies  Gender  Counts\n",
       "0         Cinema  Female      35\n",
       "1         Cinema    Male      43\n",
       "2  Reading books  Female      18\n",
       "3  Reading books    Male      18\n",
       "4         Sports  Female      23\n",
       "5         Sports    Male      62\n",
       "6    Video Games  Female       3\n",
       "7    Video Games    Male      33"
      ]
     },
     "execution_count": 5,
     "metadata": {},
     "output_type": "execute_result"
    }
   ],
   "source": [
    "hobbies = data.groupby(['hobbies','Gender']).size().reset_index().rename(columns = {0:'Counts'})\n",
    "hobbies"
   ]
  },
  {
   "cell_type": "code",
   "execution_count": 6,
   "metadata": {},
   "outputs": [
    {
     "data": {
      "image/png": "[encoded data removed]",
      "text/plain": [
       "<Figure size 469x360 with 1 Axes>"
      ]
     },
     "metadata": {
      "needs_background": "light"
     },
     "output_type": "display_data"
    }
   ],
   "source": [
    "sns.catplot(x=\"Gender\", y=\"Counts\", hue=\"hobbies\", kind=\"bar\", data=hobbies)\n",
    "plt.show()"
   ]
  },
  {
   "cell_type": "code",
   "execution_count": 41,
   "metadata": {},
   "outputs": [
    {
     "data": {
      "text/plain": [
       "array(['Morning', 'Anytime', 'Night'], dtype=object)"
      ]
     },
     "execution_count": 41,
     "metadata": {},
     "output_type": "execute_result"
    }
   ],
   "source": [
    "data['prefer to study in'].unique()"
   ]
  },
  {
   "cell_type": "code",
   "execution_count": 9,
   "metadata": {},
   "outputs": [
    {
     "data": {
      "text/html": [
       "<div>\n",
       "<style scoped>\n",
       "    .dataframe tbody tr th:only-of-type {\n",
       "        vertical-align: middle;\n",
       "    }\n",
       "\n",
       "    .dataframe tbody tr th {\n",
       "        vertical-align: top;\n",
       "    }\n",
       "\n",
       "    .dataframe thead th {\n",
       "        text-align: right;\n",
       "    }\n",
       "</style>\n",
       "<table border=\"1\" class=\"dataframe\">\n",
       "  <thead>\n",
       "    <tr style=\"text-align: right;\">\n",
       "      <th></th>\n",
       "      <th>prefer_to_study_in</th>\n",
       "      <th>Counts</th>\n",
       "    </tr>\n",
       "  </thead>\n",
       "  <tbody>\n",
       "    <tr>\n",
       "      <th>0</th>\n",
       "      <td>Anytime</td>\n",
       "      <td>111</td>\n",
       "    </tr>\n",
       "    <tr>\n",
       "      <th>1</th>\n",
       "      <td>Morning</td>\n",
       "      <td>77</td>\n",
       "    </tr>\n",
       "    <tr>\n",
       "      <th>2</th>\n",
       "      <td>Night</td>\n",
       "      <td>47</td>\n",
       "    </tr>\n",
       "  </tbody>\n",
       "</table>\n",
       "</div>"
      ],
      "text/plain": [
       "  prefer_to_study_in  Counts\n",
       "0            Anytime     111\n",
       "1            Morning      77\n",
       "2              Night      47"
      ]
     },
     "execution_count": 9,
     "metadata": {},
     "output_type": "execute_result"
    }
   ],
   "source": [
    "sp=data.groupby('prefer_to_study_in').size().reset_index().rename(columns = {0:\"Counts\"})\n",
    "sp"
   ]
  },
  {
   "cell_type": "code",
   "execution_count": 8,
   "metadata": {},
   "outputs": [
    {
     "data": {
      "text/html": [
       "<div>\n",
       "<style scoped>\n",
       "    .dataframe tbody tr th:only-of-type {\n",
       "        vertical-align: middle;\n",
       "    }\n",
       "\n",
       "    .dataframe tbody tr th {\n",
       "        vertical-align: top;\n",
       "    }\n",
       "\n",
       "    .dataframe thead th {\n",
       "        text-align: right;\n",
       "    }\n",
       "</style>\n",
       "<table border=\"1\" class=\"dataframe\">\n",
       "  <thead>\n",
       "    <tr style=\"text-align: right;\">\n",
       "      <th></th>\n",
       "      <th>Gender</th>\n",
       "      <th>prefer_to_study_in</th>\n",
       "      <th>Counts</th>\n",
       "    </tr>\n",
       "  </thead>\n",
       "  <tbody>\n",
       "    <tr>\n",
       "      <th>0</th>\n",
       "      <td>Male</td>\n",
       "      <td>Anytime</td>\n",
       "      <td>75</td>\n",
       "    </tr>\n",
       "    <tr>\n",
       "      <th>1</th>\n",
       "      <td>Male</td>\n",
       "      <td>Morning</td>\n",
       "      <td>56</td>\n",
       "    </tr>\n",
       "    <tr>\n",
       "      <th>2</th>\n",
       "      <td>Male</td>\n",
       "      <td>Night</td>\n",
       "      <td>25</td>\n",
       "    </tr>\n",
       "  </tbody>\n",
       "</table>\n",
       "</div>"
      ],
      "text/plain": [
       "  Gender prefer_to_study_in  Counts\n",
       "0   Male            Anytime      75\n",
       "1   Male            Morning      56\n",
       "2   Male              Night      25"
      ]
     },
     "execution_count": 8,
     "metadata": {},
     "output_type": "execute_result"
    }
   ],
   "source": [
    "male_sp = data[data['Gender'] == 'Male'].groupby(['Gender','prefer_to_study_in']).size().reset_index().rename(columns = {0:\"Counts\"})\n",
    "male_sp"
   ]
  },
  {
   "cell_type": "code",
   "execution_count": 9,
   "metadata": {},
   "outputs": [
    {
     "data": {
      "image/png": "[encoded data removed]",
      "text/plain": [
       "<Figure size 432x288 with 1 Axes>"
      ]
     },
     "metadata": {},
     "output_type": "display_data"
    }
   ],
   "source": [
    "plt.pie(x = male_sp.Counts,labels = male_sp.prefer_to_study_in,autopct = '%1.2f%%')\n",
    "plt.show()"
   ]
  },
  {
   "cell_type": "code",
   "execution_count": 16,
   "metadata": {},
   "outputs": [
    {
     "data": {
      "image/png": "[encoded data removed]",
      "text/plain": [
       "<Figure size 432x288 with 1 Axes>"
      ]
     },
     "metadata": {
      "needs_background": "light"
     },
     "output_type": "display_data"
    }
   ],
   "source": [
    "plt.bar(male_sp.prefer_to_study_in,male_sp.Counts,color = 'blue')\n",
    "plt.title(\"perfer study time of males\")\n",
    "plt.show()\n",
    "\n",
    "\n"
   ]
  },
  {
   "cell_type": "code",
   "execution_count": 17,
   "metadata": {},
   "outputs": [
    {
     "data": {
      "text/html": [
       "<div>\n",
       "<style scoped>\n",
       "    .dataframe tbody tr th:only-of-type {\n",
       "        vertical-align: middle;\n",
       "    }\n",
       "\n",
       "    .dataframe tbody tr th {\n",
       "        vertical-align: top;\n",
       "    }\n",
       "\n",
       "    .dataframe thead th {\n",
       "        text-align: right;\n",
       "    }\n",
       "</style>\n",
       "<table border=\"1\" class=\"dataframe\">\n",
       "  <thead>\n",
       "    <tr style=\"text-align: right;\">\n",
       "      <th></th>\n",
       "      <th>Gender</th>\n",
       "      <th>prefer_to_study_in</th>\n",
       "      <th>Counts</th>\n",
       "    </tr>\n",
       "  </thead>\n",
       "  <tbody>\n",
       "    <tr>\n",
       "      <th>0</th>\n",
       "      <td>Female</td>\n",
       "      <td>Anytime</td>\n",
       "      <td>36</td>\n",
       "    </tr>\n",
       "    <tr>\n",
       "      <th>1</th>\n",
       "      <td>Female</td>\n",
       "      <td>Morning</td>\n",
       "      <td>21</td>\n",
       "    </tr>\n",
       "    <tr>\n",
       "      <th>2</th>\n",
       "      <td>Female</td>\n",
       "      <td>Night</td>\n",
       "      <td>22</td>\n",
       "    </tr>\n",
       "  </tbody>\n",
       "</table>\n",
       "</div>"
      ],
      "text/plain": [
       "   Gender prefer_to_study_in  Counts\n",
       "0  Female            Anytime      36\n",
       "1  Female            Morning      21\n",
       "2  Female              Night      22"
      ]
     },
     "execution_count": 17,
     "metadata": {},
     "output_type": "execute_result"
    }
   ],
   "source": [
    "female_sp = data[data['Gender'] == 'Female'].groupby(['Gender','prefer_to_study_in']).size().reset_index().rename(columns = {0:\"Counts\"})\n",
    "female_sp"
   ]
  },
  {
   "cell_type": "code",
   "execution_count": 38,
   "metadata": {},
   "outputs": [
    {
     "data": {
      "image/png": "[encoded data removed]",
      "text/plain": [
       "<Figure size 432x288 with 1 Axes>"
      ]
     },
     "metadata": {},
     "output_type": "display_data"
    }
   ],
   "source": [
    "plt.pie(x = female_sp.Counts,labels = female_sp.prefer_to_study_in,autopct = '%1.2f%%')\n",
    "plt.show()"
   ]
  },
  {
   "cell_type": "code",
   "execution_count": 36,
   "metadata": {},
   "outputs": [
    {
     "data": {
      "image/png": "[encoded data removed]",
      "text/plain": [
       "<Figure size 432x288 with 1 Axes>"
      ]
     },
     "metadata": {
      "needs_background": "light"
     },
     "output_type": "display_data"
    }
   ],
   "source": [
    "plt.bar(female_sp.prefer_to_study_in,female_sp.Counts,color = 'green')\n",
    "plt.title(\"perfer study time of Females\")\n",
    "plt.show()"
   ]
  },
  {
   "cell_type": "code",
   "execution_count": 23,
   "metadata": {},
   "outputs": [
    {
     "data": {
      "text/plain": [
       "array(['0 - 30 minute', '30 - 60 minute', '1 - 2 Hour', '2 - 3 hour',\n",
       "       '3 - 4 hour', 'More Than 4 hour'], dtype=object)"
      ]
     },
     "execution_count": 23,
     "metadata": {},
     "output_type": "execute_result"
    }
   ],
   "source": [
    "data['daily_studing_time'].unique()"
   ]
  },
  {
   "cell_type": "code",
   "execution_count": 24,
   "metadata": {},
   "outputs": [
    {
     "data": {
      "text/html": [
       "<div>\n",
       "<style scoped>\n",
       "    .dataframe tbody tr th:only-of-type {\n",
       "        vertical-align: middle;\n",
       "    }\n",
       "\n",
       "    .dataframe tbody tr th {\n",
       "        vertical-align: top;\n",
       "    }\n",
       "\n",
       "    .dataframe thead th {\n",
       "        text-align: right;\n",
       "    }\n",
       "</style>\n",
       "<table border=\"1\" class=\"dataframe\">\n",
       "  <thead>\n",
       "    <tr style=\"text-align: right;\">\n",
       "      <th></th>\n",
       "      <th>daily_studing_time</th>\n",
       "      <th>Counts</th>\n",
       "    </tr>\n",
       "  </thead>\n",
       "  <tbody>\n",
       "    <tr>\n",
       "      <th>0</th>\n",
       "      <td>0 - 30 minute</td>\n",
       "      <td>46</td>\n",
       "    </tr>\n",
       "    <tr>\n",
       "      <th>1</th>\n",
       "      <td>1 - 2 Hour</td>\n",
       "      <td>61</td>\n",
       "    </tr>\n",
       "    <tr>\n",
       "      <th>2</th>\n",
       "      <td>2 - 3 hour</td>\n",
       "      <td>24</td>\n",
       "    </tr>\n",
       "    <tr>\n",
       "      <th>3</th>\n",
       "      <td>3 - 4 hour</td>\n",
       "      <td>15</td>\n",
       "    </tr>\n",
       "    <tr>\n",
       "      <th>4</th>\n",
       "      <td>30 - 60 minute</td>\n",
       "      <td>81</td>\n",
       "    </tr>\n",
       "    <tr>\n",
       "      <th>5</th>\n",
       "      <td>More Than 4 hour</td>\n",
       "      <td>8</td>\n",
       "    </tr>\n",
       "  </tbody>\n",
       "</table>\n",
       "</div>"
      ],
      "text/plain": [
       "  daily_studing_time  Counts\n",
       "0      0 - 30 minute      46\n",
       "1         1 - 2 Hour      61\n",
       "2         2 - 3 hour      24\n",
       "3         3 - 4 hour      15\n",
       "4     30 - 60 minute      81\n",
       "5   More Than 4 hour       8"
      ]
     },
     "execution_count": 24,
     "metadata": {},
     "output_type": "execute_result"
    }
   ],
   "source": [
    "st=data.groupby('daily_studing_time').size().reset_index().rename(columns = {0:\"Counts\"})\n",
    "st"
   ]
  },
  {
   "cell_type": "code",
   "execution_count": 25,
   "metadata": {},
   "outputs": [
    {
     "data": {
      "text/html": [
       "<div>\n",
       "<style scoped>\n",
       "    .dataframe tbody tr th:only-of-type {\n",
       "        vertical-align: middle;\n",
       "    }\n",
       "\n",
       "    .dataframe tbody tr th {\n",
       "        vertical-align: top;\n",
       "    }\n",
       "\n",
       "    .dataframe thead th {\n",
       "        text-align: right;\n",
       "    }\n",
       "</style>\n",
       "<table border=\"1\" class=\"dataframe\">\n",
       "  <thead>\n",
       "    <tr style=\"text-align: right;\">\n",
       "      <th></th>\n",
       "      <th>Gender</th>\n",
       "      <th>daily_studing_time</th>\n",
       "      <th>Counts</th>\n",
       "    </tr>\n",
       "  </thead>\n",
       "  <tbody>\n",
       "    <tr>\n",
       "      <th>0</th>\n",
       "      <td>Male</td>\n",
       "      <td>0 - 30 minute</td>\n",
       "      <td>35</td>\n",
       "    </tr>\n",
       "    <tr>\n",
       "      <th>1</th>\n",
       "      <td>Male</td>\n",
       "      <td>1 - 2 Hour</td>\n",
       "      <td>37</td>\n",
       "    </tr>\n",
       "    <tr>\n",
       "      <th>2</th>\n",
       "      <td>Male</td>\n",
       "      <td>2 - 3 hour</td>\n",
       "      <td>10</td>\n",
       "    </tr>\n",
       "    <tr>\n",
       "      <th>3</th>\n",
       "      <td>Male</td>\n",
       "      <td>3 - 4 hour</td>\n",
       "      <td>8</td>\n",
       "    </tr>\n",
       "    <tr>\n",
       "      <th>4</th>\n",
       "      <td>Male</td>\n",
       "      <td>30 - 60 minute</td>\n",
       "      <td>60</td>\n",
       "    </tr>\n",
       "    <tr>\n",
       "      <th>5</th>\n",
       "      <td>Male</td>\n",
       "      <td>More Than 4 hour</td>\n",
       "      <td>6</td>\n",
       "    </tr>\n",
       "  </tbody>\n",
       "</table>\n",
       "</div>"
      ],
      "text/plain": [
       "  Gender daily_studing_time  Counts\n",
       "0   Male      0 - 30 minute      35\n",
       "1   Male         1 - 2 Hour      37\n",
       "2   Male         2 - 3 hour      10\n",
       "3   Male         3 - 4 hour       8\n",
       "4   Male     30 - 60 minute      60\n",
       "5   Male   More Than 4 hour       6"
      ]
     },
     "execution_count": 25,
     "metadata": {},
     "output_type": "execute_result"
    }
   ],
   "source": [
    "male_st = data[data['Gender'] == 'Male'].groupby(['Gender','daily_studing_time']).size().reset_index().rename(columns = {0:\"Counts\"})\n",
    "male_st"
   ]
  },
  {
   "cell_type": "code",
   "execution_count": 37,
   "metadata": {},
   "outputs": [
    {
     "data": {
      "text/html": [
       "<div>\n",
       "<style scoped>\n",
       "    .dataframe tbody tr th:only-of-type {\n",
       "        vertical-align: middle;\n",
       "    }\n",
       "\n",
       "    .dataframe tbody tr th {\n",
       "        vertical-align: top;\n",
       "    }\n",
       "\n",
       "    .dataframe thead th {\n",
       "        text-align: right;\n",
       "    }\n",
       "</style>\n",
       "<table border=\"1\" class=\"dataframe\">\n",
       "  <thead>\n",
       "    <tr style=\"text-align: right;\">\n",
       "      <th></th>\n",
       "      <th>Gender</th>\n",
       "      <th>daily_studing_time</th>\n",
       "      <th>Counts</th>\n",
       "    </tr>\n",
       "  </thead>\n",
       "  <tbody>\n",
       "    <tr>\n",
       "      <th>0</th>\n",
       "      <td>Female</td>\n",
       "      <td>0 - 30 minute</td>\n",
       "      <td>11</td>\n",
       "    </tr>\n",
       "    <tr>\n",
       "      <th>1</th>\n",
       "      <td>Female</td>\n",
       "      <td>1 - 2 Hour</td>\n",
       "      <td>24</td>\n",
       "    </tr>\n",
       "    <tr>\n",
       "      <th>2</th>\n",
       "      <td>Female</td>\n",
       "      <td>2 - 3 hour</td>\n",
       "      <td>14</td>\n",
       "    </tr>\n",
       "    <tr>\n",
       "      <th>3</th>\n",
       "      <td>Female</td>\n",
       "      <td>3 - 4 hour</td>\n",
       "      <td>7</td>\n",
       "    </tr>\n",
       "    <tr>\n",
       "      <th>4</th>\n",
       "      <td>Female</td>\n",
       "      <td>30 - 60 minute</td>\n",
       "      <td>21</td>\n",
       "    </tr>\n",
       "    <tr>\n",
       "      <th>5</th>\n",
       "      <td>Female</td>\n",
       "      <td>More Than 4 hour</td>\n",
       "      <td>2</td>\n",
       "    </tr>\n",
       "  </tbody>\n",
       "</table>\n",
       "</div>"
      ],
      "text/plain": [
       "   Gender daily_studing_time  Counts\n",
       "0  Female      0 - 30 minute      11\n",
       "1  Female         1 - 2 Hour      24\n",
       "2  Female         2 - 3 hour      14\n",
       "3  Female         3 - 4 hour       7\n",
       "4  Female     30 - 60 minute      21\n",
       "5  Female   More Than 4 hour       2"
      ]
     },
     "execution_count": 37,
     "metadata": {},
     "output_type": "execute_result"
    }
   ],
   "source": [
    "female_st = data[data['Gender'] == 'Female'].groupby(['Gender','daily_studing_time']).size().reset_index().rename(columns = {0:\"Counts\"})\n",
    "female_st"
   ]
  },
  {
   "cell_type": "code",
   "execution_count": 27,
   "metadata": {},
   "outputs": [
    {
     "data": {
      "image/png": "[encoded data removed]",
      "text/plain": [
       "<Figure size 432x288 with 1 Axes>"
      ]
     },
     "metadata": {},
     "output_type": "display_data"
    }
   ],
   "source": [
    "plt.pie(x = male_st.Counts,labels = male_st.daily_studing_time,autopct = '%1.2f%%')\n",
    "plt.show()"
   ]
  },
  {
   "cell_type": "code",
   "execution_count": 28,
   "metadata": {},
   "outputs": [
    {
     "data": {
      "image/png": "[encoded data removed]",
      "text/plain": [
       "<Figure size 432x288 with 1 Axes>"
      ]
     },
     "metadata": {},
     "output_type": "display_data"
    }
   ],
   "source": [
    "plt.pie(x = female_st.Counts,labels = female_st.daily_studing_time,autopct = '%1.2f%%')\n",
    "plt.show()"
   ]
  },
  {
   "cell_type": "code",
   "execution_count": 35,
   "metadata": {},
   "outputs": [
    {
     "data": {
      "image/png": "[encoded data removed]",
      "text/plain": [
       "<Figure size 720x360 with 1 Axes>"
      ]
     },
     "metadata": {
      "needs_background": "light"
     },
     "output_type": "display_data"
    },
    {
     "data": {
      "image/png": "[encoded data removed]",
      "text/plain": [
       "<Figure size 720x360 with 1 Axes>"
      ]
     },
     "metadata": {
      "needs_background": "light"
     },
     "output_type": "display_data"
    }
   ],
   "source": [
    "plt.figure(figsize=(10,5))\n",
    "plt.bar(female_st.daily_studing_time,female_st.Counts,color = 'green')\n",
    "plt.title(\"Daily study time of Females\")\n",
    "plt.show()\n",
    "\n",
    "\n",
    "plt.figure(figsize=(10,5))\n",
    "plt.bar(male_st.daily_studing_time,male_st.Counts,color = 'green')\n",
    "plt.title(\"Daily study time of males\")\n",
    "plt.show()"
   ]
  }
 ],
 "metadata": {
  "interpreter": {
   "hash": "33dc6d49505b4536b6a128d9d7c879e1fa44477ad44947bbbe73093067fe6393"
  },
  "kernelspec": {
   "display_name": "Python 3 (ipykernel)",
   "language": "python",
   "name": "python3"
  },
  "language_info": {
   "codemirror_mode": {
    "name": "ipython",
    "version": 3
   },
   "file_extension": ".py",
   "mimetype": "text/x-python",
   "name": "python",
   "nbconvert_exporter": "python",
   "pygments_lexer": "ipython3",
   "version": "3.9.8"
  }
 },
 "nbformat": 4,
 "nbformat_minor": 2
}
